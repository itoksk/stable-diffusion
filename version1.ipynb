{
 "cells": [
  {
   "cell_type": "code",
   "execution_count": null,
   "metadata": {
    "vscode": {
     "languageId": "plaintext"
    }
   },
   "outputs": [],
   "source": [
    "#@title セル①\n",
    "\n",
    "#Stable Diffusionのインストール\n",
    "!pip install --upgrade diffusers[torch] transformers"
   ]
  },
  {
   "cell_type": "code",
   "execution_count": null,
   "metadata": {
    "vscode": {
     "languageId": "plaintext"
    }
   },
   "outputs": [],
   "source": [
    "#@title セル②\n",
    "\n",
    "from diffusers import StableDiffusionPipeline, EulerDiscreteScheduler\n",
    "from diffusers.models import AutoencoderKL\n",
    "import torch\n",
    "\n",
    "#画像生成に使うモデルデータ\n",
    "model_id = \"stablediffusionapi/anything-v5\"#@param [\"runwayml/stable-diffusion-v1-5\", \"SG161222/Realistic_Vision_V5.1_noVAE\", \"stablediffusionapi/anything-v5\"] {allow-input: true}\n",
    "#画像生成に使うVAE\n",
    "vae = \"stabilityai/sd-vae-ft-mse\"#@#param {type:\"string\"}\n",
    "vae = AutoencoderKL.from_pretrained(vae)\n",
    "\n",
    "#画像生成に使うスケジューラー\n",
    "scheduler = EulerDiscreteScheduler.from_pretrained(model_id, subfolder=\"scheduler\")\n",
    "\n",
    "#パイプラインの作成\n",
    "pipe = StableDiffusionPipeline.from_pretrained(model_id, scheduler=scheduler, vae=vae, custom_pipeline=\"lpw_stable_diffusion\")\n",
    "\n",
    "pipe = pipe.to(\"cuda\")"
   ]
  },
  {
   "cell_type": "code",
   "execution_count": null,
   "metadata": {
    "vscode": {
     "languageId": "plaintext"
    }
   },
   "outputs": [],
   "source": [
    "#@title セル③\n",
    "\n",
    "import datetime\n",
    "import os\n",
    "import random\n",
    "\n",
    "#txt2img出力画像の保存先\n",
    "!mkdir -p /content/txt2img_output\n",
    "\n",
    "# ファイル名に使う日付と時刻のフォーマットを定義する\n",
    "file_format = \"%Y%m%d_%H%M%S\"\n",
    "i=0\n",
    "\n",
    "#ポジティブプロンプト\n",
    "prompt = \"apple\"#@param {type:\"string\"}\n",
    "#ネガティブプロンプト\n",
    "n_prompt = \"nsfw\"#@#param {type:\"string\"}\n",
    "#CFG Scale\n",
    "CFG_scale = 7#@#param {type:\"number\"}\n",
    "#ステップ数\n",
    "Steps = 20#@#param {type:\"number\"}\n",
    "#seed値\n",
    "seed=-1#@param {type:\"number\"}\n",
    "if seed is None or seed == -1:\n",
    "  inputSeed = random.randint(0, 2147483647)\n",
    "else:\n",
    "  valueSeed = seed\n",
    "\n",
    "#生成枚数\n",
    "num_images = 3#@param {type:\"number\"}\n",
    "#出力画像の横幅\n",
    "width = 512#@param {type:\"number\"}\n",
    "#出力画像の高さ\n",
    "height = 512#@param {type:\"number\"}\n",
    "#出力画像を保存するフォルダ\n",
    "save_path = \"/content/txt2img_output\"#@#param {type:\"string\"}\n",
    "\n",
    "while i < int(num_images):\n",
    "  #generator\n",
    "  if seed is None or seed == -1:valueSeed = inputSeed + i\n",
    "  generator = torch.Generator(device=\"cuda\").manual_seed(valueSeed)\n",
    "\n",
    "  #画像を生成\n",
    "  image = pipe(prompt, negative_prompt=n_prompt, width=width, height=height, generator=generator, guidance_scale=CFG_scale, num_inference_steps=Steps).images[0]\n",
    "\n",
    "  # 現在の日本時間を取得\n",
    "  jst_now = datetime.datetime.now(datetime.timezone(datetime.timedelta(hours=9)))\n",
    "  #出力する画像の名前を生成する\n",
    "  file_name = (jst_now.strftime(file_format)+ \"_\" + str(valueSeed))\n",
    "  image_name = file_name + f\".png\"\n",
    "\n",
    "  #画像を保存する\n",
    "  save_location = os.path.join(save_path, image_name)\n",
    "  image.save(save_location)\n",
    "  i = i + 1"
   ]
  }
 ],
 "metadata": {
  "language_info": {
   "name": "python"
  }
 },
 "nbformat": 4,
 "nbformat_minor": 2
}
